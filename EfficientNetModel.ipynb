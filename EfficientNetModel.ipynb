{
  "nbformat": 4,
  "nbformat_minor": 0,
  "metadata": {
    "colab": {
      "provenance": [],
      "gpuType": "T4",
      "machine_shape": "hm",
      "mount_file_id": "1uXEe28Ap8CL2N2L4s8DzOB6dlHO7dUpA",
      "authorship_tag": "ABX9TyPBGgwb/9pQCgqOb1erR5EA",
      "include_colab_link": true
    },
    "kernelspec": {
      "name": "python3",
      "display_name": "Python 3"
    },
    "language_info": {
      "name": "python"
    },
    "accelerator": "GPU"
  },
  "cells": [
    {
      "cell_type": "markdown",
      "metadata": {
        "id": "view-in-github",
        "colab_type": "text"
      },
      "source": [
        "<a href=\"https://colab.research.google.com/github/Priyabratagni/DBMI_Demographic_Bias_in_Medical_Imaging/blob/main/EfficientNetModel.ipynb\" target=\"_parent\"><img src=\"https://colab.research.google.com/assets/colab-badge.svg\" alt=\"Open In Colab\"/></a>"
      ]
    },
    {
      "cell_type": "markdown",
      "source": [
        "## Installing Requirements"
      ],
      "metadata": {
        "id": "J4KLO6MHmVpZ"
      }
    },
    {
      "cell_type": "markdown",
      "source": [
        "## Importing Required Libraries"
      ],
      "metadata": {
        "id": "FJRWIaOimsun"
      }
    },
    {
      "cell_type": "code",
      "source": [
        "import pandas as pd\n",
        "import numpy as np\n",
        "import torch\n",
        "import torch.nn as nn\n",
        "from torch.utils.data import Dataset, DataLoader\n",
        "from sklearn.preprocessing import LabelEncoder\n",
        "import timm\n",
        "import torch.optim as optim"
      ],
      "metadata": {
        "id": "6aU0nehLm1Wz"
      },
      "execution_count": null,
      "outputs": []
    },
    {
      "cell_type": "markdown",
      "source": [
        "## Load the csv file and Image data"
      ],
      "metadata": {
        "id": "rgKo12Ctokmm"
      }
    },
    {
      "source": [
        "df = pd.read_csv('/content/drive/MyDrive/Colab Notebooks/DermaMNISTDataset.csv')\n",
        "npz = np.load('/content/drive/MyDrive/Colab Notebooks/DermaMNIST_Corrected_224.npz')"
      ],
      "cell_type": "code",
      "metadata": {
        "id": "aQe6CD-JjmxP"
      },
      "execution_count": null,
      "outputs": []
    },
    {
      "cell_type": "code",
      "source": [
        "df"
      ],
      "metadata": {
        "id": "foCAnWDPpTCX"
      },
      "execution_count": null,
      "outputs": []
    },
    {
      "cell_type": "code",
      "source": [
        "import matplotlib.pyplot as plt\n",
        "\n",
        "colums_dx = pd.read_csv('/content/drive/MyDrive/Colab Notebooks/DermaMNISTDataset.csv')['dx']\n",
        "for i in range(5):\n",
        "    plt.subplot(1, 5, i + 1)\n",
        "    plt.imshow(npz['train_images'][i])\n",
        "    plt.title(colums_dx[i])\n",
        "    plt.axis('off')\n",
        "plt.show()"
      ],
      "metadata": {
        "id": "obimT-BBpdKs"
      },
      "execution_count": null,
      "outputs": []
    },
    {
      "cell_type": "markdown",
      "source": [
        "Convert text classes to Numerical Format"
      ],
      "metadata": {
        "id": "TYgSC1L3Byn1"
      }
    },
    {
      "cell_type": "code",
      "source": [
        "label_encoder = LabelEncoder()\n",
        "df['dx_enc'] = label_encoder.fit_transform(df['dx'])"
      ],
      "metadata": {
        "id": "aywLQOAF0seG"
      },
      "execution_count": null,
      "outputs": []
    },
    {
      "cell_type": "code",
      "source": [
        "class DermaDataset(Dataset):\n",
        "    def __init__(self, images, labels):\n",
        "        self.images = images.astype(np.float32) / 255.0\n",
        "        self.labels = labels\n",
        "\n",
        "    def __len__(self):\n",
        "        return len(self.images)\n",
        "\n",
        "    def __getitem__(self, idx):\n",
        "        img = self.images[idx]\n",
        "        img = np.transpose(img, (2, 0, 1))\n",
        "        label = self.labels[idx]\n",
        "        return torch.tensor(img, dtype=torch.float32), torch.tensor(label, dtype=torch.long)"
      ],
      "metadata": {
        "id": "X04iov0P2t-A"
      },
      "execution_count": null,
      "outputs": []
    },
    {
      "cell_type": "code",
      "source": [
        "train_idx = df[df['split'] == 'train'].index\n",
        "val_idx = df[df['split'] == 'val'].index\n",
        "test_idx = df[df['split'] == 'test'].index"
      ],
      "metadata": {
        "id": "GfsRUpzLB8-l"
      },
      "execution_count": null,
      "outputs": []
    },
    {
      "cell_type": "code",
      "source": [
        "train_labels = df.loc[train_idx, 'dx_enc'].to_numpy()\n",
        "val_labels = df.loc[val_idx, 'dx_enc'].to_numpy()\n",
        "test_labels = df.loc[test_idx, 'dx_enc'].to_numpy()"
      ],
      "metadata": {
        "id": "DB4mphz9B_UE"
      },
      "execution_count": null,
      "outputs": []
    },
    {
      "cell_type": "code",
      "source": [
        "trainset = DermaDataset(npz['train_images'], train_labels)\n",
        "valset = DermaDataset(npz['val_images'], val_labels)\n",
        "testset = DermaDataset(npz['test_images'], test_labels)"
      ],
      "metadata": {
        "id": "gsRfnwaTCA9D"
      },
      "execution_count": null,
      "outputs": []
    },
    {
      "cell_type": "code",
      "source": [
        "train_loader = DataLoader(trainset, batch_size=32, shuffle=True)\n",
        "val_loader = DataLoader(valset, batch_size=32)\n",
        "test_loader = DataLoader(testset, batch_size=32)"
      ],
      "metadata": {
        "id": "PlFJsMUlCefp"
      },
      "execution_count": null,
      "outputs": []
    },
    {
      "cell_type": "code",
      "source": [
        "device = torch.device(\"cuda\" if torch.cuda.is_available() else \"cpu\")\n",
        "model = timm.create_model('efficientnet_b1', pretrained=True)\n",
        "model.classifier = nn.Linear(model.classifier.in_features, 7)\n",
        "model = model.to(device)"
      ],
      "metadata": {
        "id": "eeDDlFtdCmFQ"
      },
      "execution_count": null,
      "outputs": []
    },
    {
      "cell_type": "code",
      "source": [
        "criterion = nn.CrossEntropyLoss()\n",
        "optimizer = optim.Adam(model.parameters(), lr=1e-4)\n"
      ],
      "metadata": {
        "id": "U2KMLWO7CpIJ"
      },
      "execution_count": null,
      "outputs": []
    },
    {
      "source": [
        "num_epochs = 10\n",
        "\n",
        "train_losses = []\n",
        "val_losses = []\n",
        "val_accuracies = []\n",
        "\n",
        "for epoch in range(num_epochs):\n",
        "    print(f\"Epoch {epoch+1}/{num_epochs}\")\n",
        "\n",
        "    # Training\n",
        "    model.train()\n",
        "    running_loss = 0.0\n",
        "    for images, labels in train_loader:\n",
        "        images, labels = images.to(device), labels.to(device)\n",
        "        optimizer.zero_grad()\n",
        "\n",
        "        outputs = model(images)\n",
        "        loss = criterion(outputs, labels)\n",
        "\n",
        "        loss.backward()\n",
        "        optimizer.step()\n",
        "\n",
        "        running_loss += loss.item() * images.size(0)\n",
        "\n",
        "    train_loss = running_loss / len(train_loader.dataset)\n",
        "\n",
        "    # Validation\n",
        "    model.eval()\n",
        "    val_loss = 0.0\n",
        "    correct = 0\n",
        "\n",
        "    with torch.no_grad():\n",
        "        for images, labels in val_loader:\n",
        "            images, labels = images.to(device), labels.to(device)\n",
        "            outputs = model(images)\n",
        "            loss = criterion(outputs, labels)\n",
        "            val_loss += loss.item() * images.size(0)\n",
        "            preds = outputs.argmax(1)\n",
        "            correct += (preds == labels).sum().item()\n",
        "\n",
        "    val_loss /= len(val_loader.dataset)\n",
        "    val_acc = correct / len(val_loader.dataset)\n",
        "\n",
        "    train_losses.append(train_loss)\n",
        "    val_losses.append(val_loss)\n",
        "    val_accuracies.append(val_acc)\n",
        "\n",
        "    print(f\"Train Loss: {train_loss:.4f} | Val Loss: {val_loss:.4f} | Val Acc: {val_acc:.4f}\")\n",
        "\n",
        "print(f\"Training completed! Total epochs: {len(train_losses)}\")"
      ],
      "cell_type": "code",
      "metadata": {
        "id": "P1Ro_mjpwCxj"
      },
      "execution_count": null,
      "outputs": []
    },
    {
      "cell_type": "code",
      "source": [
        "# Test\n",
        "model.eval()\n",
        "correct = 0\n",
        "all_preds, all_labels = [], []\n",
        "with torch.no_grad():\n",
        "    for images, labels in test_loader:\n",
        "        images, labels = images.to(device), labels.to(device)\n",
        "        outputs = model(images)\n",
        "        preds = outputs.argmax(1)\n",
        "        correct += (preds == labels).sum().item()\n",
        "        all_preds.extend(preds.cpu().numpy())\n",
        "        all_labels.extend(labels.cpu().numpy())\n",
        "test_acc = correct / len(test_loader.dataset)\n",
        "print(f\"Test Accuracy: {test_acc:.4f}\")\n"
      ],
      "metadata": {
        "id": "CvaOH-VvrMxq"
      },
      "execution_count": null,
      "outputs": []
    },
    {
      "cell_type": "code",
      "source": [
        "import matplotlib.pyplot as plt\n",
        "\n",
        "completed_epochs = len(train_losses)\n",
        "epochs_completed = range(1, completed_epochs + 1)\n",
        "\n",
        "plt.figure(figsize=(10,4))\n",
        "\n",
        "plt.subplot(1,2,1)\n",
        "\n",
        "plt.plot(epochs_completed, train_losses, 'bo-', label='Train Loss', markersize=8)\n",
        "plt.plot(epochs_completed, val_losses, 'ro-', label='Val Loss', markersize=8)\n",
        "plt.xlabel('Epoch')\n",
        "plt.ylabel('Loss')\n",
        "plt.title('Training and Validation Loss')\n",
        "plt.legend()\n",
        "plt.grid(True)\n",
        "\n",
        "plt.subplot(1,2,2)\n",
        "plt.plot(epochs_completed, val_accuracies, 'go-', label='Val Accuracy', markersize=8)\n",
        "plt.xlabel('Epoch')\n",
        "plt.ylabel('Accuracy')\n",
        "plt.title('Validation Accuracy')\n",
        "plt.legend()\n",
        "plt.grid(True)\n",
        "\n",
        "plt.tight_layout()\n",
        "plt.show()\n",
        "\n",
        "print(f\"Completed epochs: {completed_epochs}\")\n",
        "print(f\"Train Loss: {train_losses}\")\n",
        "print(f\"Val Loss: {val_losses}\")\n",
        "print(f\"Val Accuracy: {val_accuracies}\")"
      ],
      "metadata": {
        "id": "BZ8_qZAHILni"
      },
      "execution_count": null,
      "outputs": []
    },
    {
      "cell_type": "code",
      "source": [
        "from sklearn.metrics import confusion_matrix, classification_report\n",
        "import seaborn as sns"
      ],
      "metadata": {
        "id": "DGqTE_N8NE5C"
      },
      "execution_count": null,
      "outputs": []
    },
    {
      "cell_type": "code",
      "source": [
        "cm = confusion_matrix(all_labels, all_preds)\n",
        "\n",
        "plt.figure(figsize=(8,6))\n",
        "sns.heatmap(cm, annot=True, fmt='d', cmap='Blues',\n",
        "            xticklabels=label_encoder.classes_,\n",
        "            yticklabels=label_encoder.classes_)\n",
        "plt.xlabel('Predicted')\n",
        "plt.ylabel('True')\n",
        "plt.title('Confusion Matrix')\n",
        "plt.tight_layout()\n",
        "plt.show()"
      ],
      "metadata": {
        "id": "zGB50X8fNGI4"
      },
      "execution_count": null,
      "outputs": []
    },
    {
      "cell_type": "code",
      "source": [
        "report = classification_report(\n",
        "    all_labels,\n",
        "    all_preds,\n",
        "    target_names=label_encoder.classes_,\n",
        "    digits=3\n",
        ")\n",
        "print(report)"
      ],
      "metadata": {
        "id": "QKeCOOz6NHI_"
      },
      "execution_count": null,
      "outputs": []
    },
    {
      "cell_type": "code",
      "source": [
        "import numpy as np\n",
        "\n",
        "report_dict = classification_report(\n",
        "    all_labels, all_preds, target_names=label_encoder.classes_, output_dict=True\n",
        ")\n",
        "f1_scores = [report_dict[c]['f1-score'] for c in label_encoder.classes_]\n",
        "\n",
        "plt.figure(figsize=(8,4))\n",
        "plt.bar(label_encoder.classes_, f1_scores, color='skyblue')\n",
        "plt.xlabel('Class')\n",
        "plt.ylabel('F1-score')\n",
        "plt.title('F1-score per Class')\n",
        "plt.ylim(0, 1)\n",
        "plt.tight_layout()\n",
        "plt.show()"
      ],
      "metadata": {
        "id": "EskVZK_qNJL1"
      },
      "execution_count": null,
      "outputs": []
    }
  ]
}